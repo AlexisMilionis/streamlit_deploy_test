{
 "cells": [
  {
   "cell_type": "code",
   "execution_count": 16,
   "id": "5d7997a5",
   "metadata": {},
   "outputs": [],
   "source": [
    "import pandas as pd\n",
    "import sys, os\n",
    "sys.path.insert(0, os.path.join(os.getcwd(), '../../..'))"
   ]
  },
  {
   "cell_type": "code",
   "execution_count": 17,
   "id": "63297f54",
   "metadata": {},
   "outputs": [],
   "source": [
    "eurobank_202412 = pd.read_excel(\"../data/input/eurobank/202412.xlsx\")\n",
    "eurobank_202412['Processed_Month'] = '202412'\n",
    "eurobank_202501 = pd.read_excel(\"../data/input/eurobank/202501.xlsx\")\n",
    "eurobank_202501['Processed_Month'] = '202501'\n",
    "eurobank_202502 = pd.read_excel(\"../data/input/eurobank/202502.xlsx\")\n",
    "eurobank_202502['Processed_Month'] = '202502'\n",
    "eurobank_202503 = pd.read_excel(\"../data/input/eurobank/202503.xlsx\")\n",
    "eurobank_202503['Processed_Month'] = '202503'\n",
    "eurobank_202504 = pd.read_excel(\"../data/input/eurobank/202504.xlsx\")\n",
    "eurobank_202504['Processed_Month'] = '202504'\n",
    "eurobank_202505 = pd.read_excel(\"../data/input/eurobank/202505.xlsx\")\n",
    "eurobank_202505['Processed_Month'] = '202505'\n",
    "eurobank_202506 = pd.read_excel(\"../data/input/eurobank/202506.xlsx\")\n",
    "eurobank_202506['Processed_Month'] = '202506'\n",
    "eurobank_202507 = pd.read_excel(\"../data/input/eurobank/202507.xlsx\")\n",
    "eurobank_202507['Processed_Month'] = '202507'\n",
    "eurobank_202508 = pd.read_excel(\"../data/input/eurobank/202508.xlsx\")\n",
    "eurobank_202508['Processed_Month'] = '202508'\n",
    "eurobank_202509 = pd.read_excel(\"../data/input/eurobank/202509.xlsx\")\n",
    "eurobank_202509['Processed_Month'] = '202509'\n",
    "\n",
    "management_202412 = pd.read_excel(\"../data/input/management/202412.xlsx\")\n",
    "management_202412['Processed_Month'] = '202412'\n",
    "management_202501 = pd.read_excel(\"../data/input/management/202501.xlsx\")\n",
    "management_202501['Processed_Month'] = '202501'\n",
    "management_202502 = pd.read_excel(\"../data/input/management/202502.xlsx\")\n",
    "management_202502['Processed_Month'] = '202502'\n",
    "management_202503 = pd.read_excel(\"../data/input/management/202503.xlsx\")\n",
    "management_202503['Processed_Month'] = '202503'\n",
    "# management_202504 = pd.read_excel(\"../data/input/management/202504.xlsx\")\n",
    "# management_202504['Processed_Month'] = '202504'\n",
    "management_202505 = pd.read_excel(\"../data/input/management/202505.xlsx\")\n",
    "management_202505['Processed_Month'] = '202505'\n",
    "management_202506 = pd.read_excel(\"../data/input/management/202506.xlsx\")\n",
    "management_202506['Processed_Month'] = '202506'\n",
    "management_202507 = pd.read_excel(\"../data/input/management/202507.xlsx\")\n",
    "management_202507['Processed_Month'] = '202507'\n",
    "management_202508 = pd.read_excel(\"../data/input/management/202508.xlsx\")\n",
    "management_202508['Processed_Month'] = '202508'\n",
    "management_202509 = pd.read_excel(\"../data/input/management/202509.xlsx\")\n",
    "management_202509['Processed_Month'] = '202509'"
   ]
  },
  {
   "cell_type": "code",
   "execution_count": 18,
   "id": "623b4dff",
   "metadata": {},
   "outputs": [
    {
     "name": "stdout",
     "output_type": "stream",
     "text": [
      "eurobank_202412 shape: (1972, 44)\n",
      "eurobank_202501 shape: (1747, 44)\n",
      "eurobank_202502 shape: (718, 44)\n",
      "eurobank_202503 shape: (864, 44)\n",
      "eurobank_202504 shape: (665, 44)\n",
      "eurobank_202505 shape: (478, 44)\n",
      "eurobank_202506 shape: (531, 44)\n",
      "eurobank_202507 shape: (677, 44)\n",
      "eurobank_202508 shape: (925, 44)\n",
      "eurobank_202509 shape: (480, 44)\n",
      "management_202412 shape: (237, 44)\n",
      "management_202501 shape: (87, 44)\n",
      "management_202502 shape: (27, 44)\n",
      "management_202503 shape: (29, 44)\n",
      "management_202505 shape: (23, 44)\n",
      "management_202506 shape: (38, 44)\n",
      "management_202507 shape: (11, 44)\n",
      "management_202508 shape: (26, 44)\n",
      "management_202509 shape: (40, 44)\n"
     ]
    }
   ],
   "source": [
    "print(\"eurobank_202412 shape:\", eurobank_202412.shape)\n",
    "print(\"eurobank_202501 shape:\", eurobank_202501.shape)\n",
    "print(\"eurobank_202502 shape:\", eurobank_202502.shape)\n",
    "print(\"eurobank_202503 shape:\", eurobank_202503.shape)\n",
    "print(\"eurobank_202504 shape:\", eurobank_202504.shape)\n",
    "print(\"eurobank_202505 shape:\", eurobank_202505.shape)\n",
    "print(\"eurobank_202506 shape:\", eurobank_202506.shape)\n",
    "print(\"eurobank_202507 shape:\", eurobank_202507.shape)\n",
    "print(\"eurobank_202508 shape:\", eurobank_202508.shape)\n",
    "print(\"eurobank_202509 shape:\", eurobank_202509.shape)\n",
    "\n",
    "print(\"management_202412 shape:\", management_202412.shape)\n",
    "print(\"management_202501 shape:\", management_202501.shape)\n",
    "print(\"management_202502 shape:\", management_202502.shape)\n",
    "print(\"management_202503 shape:\", management_202503.shape)\n",
    "print(\"management_202505 shape:\", management_202505.shape)\n",
    "print(\"management_202506 shape:\", management_202506.shape)\n",
    "print(\"management_202507 shape:\", management_202507.shape)\n",
    "print(\"management_202508 shape:\", management_202508.shape)\n",
    "print(\"management_202509 shape:\", management_202509.shape)"
   ]
  },
  {
   "cell_type": "code",
   "execution_count": 19,
   "id": "62919070",
   "metadata": {},
   "outputs": [],
   "source": [
    "eurobank_historical_db = pd.concat([eurobank_202412, \n",
    "                                    eurobank_202501, \n",
    "                                    eurobank_202502, \n",
    "                                    eurobank_202503, \n",
    "                                    eurobank_202504, \n",
    "                                    eurobank_202505, \n",
    "                                    eurobank_202506, \n",
    "                                    eurobank_202507, \n",
    "                                    eurobank_202508, \n",
    "                                    eurobank_202509], ignore_index=True)\n",
    "management_historical_db = pd.concat([management_202412, \n",
    "                                      management_202501, \n",
    "                                      management_202502, \n",
    "                                      management_202503, \n",
    "                                      management_202505, \n",
    "                                      management_202506, \n",
    "                                      management_202507, \n",
    "                                      management_202508, \n",
    "                                      management_202509], ignore_index=True)"
   ]
  },
  {
   "cell_type": "code",
   "execution_count": 20,
   "id": "736e60e6",
   "metadata": {},
   "outputs": [],
   "source": [
    "eurobank_historical_db.to_excel(\"../data/eurobank_historical_db.xlsx\", index=False)"
   ]
  },
  {
   "cell_type": "code",
   "execution_count": 21,
   "id": "21fc70fe",
   "metadata": {},
   "outputs": [
    {
     "data": {
      "text/plain": [
       "9055"
      ]
     },
     "execution_count": 21,
     "metadata": {},
     "output_type": "execute_result"
    }
   ],
   "source": [
    "eurobank_historical_db['ΑΡ.ΠΑΡΑΣΤΑΤΙΚΟΥ'].nunique()"
   ]
  },
  {
   "cell_type": "code",
   "execution_count": 22,
   "id": "92d2860c",
   "metadata": {},
   "outputs": [],
   "source": [
    "management_historical_db.to_excel(\"../data/management_historical_db.xlsx\", index=False)\n"
   ]
  },
  {
   "cell_type": "code",
   "execution_count": 23,
   "id": "a469c60f",
   "metadata": {},
   "outputs": [
    {
     "data": {
      "text/plain": [
       "518"
      ]
     },
     "execution_count": 23,
     "metadata": {},
     "output_type": "execute_result"
    }
   ],
   "source": [
    "management_historical_db['ΑΡ.ΠΑΡΑΣΤΑΤΙΚΟΥ'].nunique()"
   ]
  },
  {
   "cell_type": "code",
   "execution_count": 24,
   "id": "7790acb6",
   "metadata": {},
   "outputs": [
    {
     "data": {
      "application/vnd.microsoft.datawrangler.viewer.v0+json": {
       "columns": [
        {
         "name": "index",
         "rawType": "object",
         "type": "string"
        },
        {
         "name": "0",
         "rawType": "object",
         "type": "unknown"
        }
       ],
       "ref": "9a2765ce-a585-431c-a4d6-bcf9e25d3008",
       "rows": [
        [
         "ΔΙΑΔΡΟΜΗ",
         "float64"
        ],
        [
         "ΑΡ.ΠΑΡΟΧΗΣ",
         "float64"
        ],
        [
         "ΠΕΡΙΟΔΟΣ ΚΑΤΑΝΑΛΩΣΗΣ ΑΠΌ",
         "datetime64[ns]"
        ],
        [
         "ΠΕΡΙΟΔΟΣ ΚΑΤΑΝΑΛΩΣΗΣ ΕΩΣ",
         "datetime64[ns]"
        ],
        [
         "ΗΜΕΡ.ΛΗΞΕΩΣ",
         "datetime64[ns]"
        ],
        [
         "ΗΜ.ΚΑΤΑΝΑΛΩΣΗΣ",
         "float64"
        ],
        [
         "ΠΕΡΙΦ.ΓΡΑΦ.",
         "object"
        ],
        [
         "ΤΙΜΟΛΟΓΙΟ",
         "object"
        ],
        [
         "ΙΔΙΟΚΤΗΤΗΣ",
         "object"
        ],
        [
         "ΕΝΟΙΚΟΣ",
         "object"
        ],
        [
         "ΔΙΕΥΘΥΝΣΗ",
         "object"
        ],
        [
         "ΑΦΜ",
         "float64"
        ],
        [
         "ΑΡ.ΜΕΤΡΗΤΗ",
         "object"
        ],
        [
         "ΔΙΑΜ.",
         "object"
        ],
        [
         "ΠΡΟΗΓ.ΕΝΔ.",
         "float64"
        ],
        [
         "ΠΑΡ.ΕΝΔΕΙΞΗ",
         "float64"
        ],
        [
         "ΤΕΚΜ.",
         "float64"
        ],
        [
         "ΤΡΙΜ",
         "float64"
        ],
        [
         "ΠΡΟΣΘ",
         "float64"
        ],
        [
         "ΤΥΠΟΣ ΛΟΓΑΡΙΑΣΜΟΥ",
         "object"
        ],
        [
         "ΚΥΒΙΚΑ 1",
         "float64"
        ],
        [
         "ΤΙΜΗΜΑ 1",
         "float64"
        ],
        [
         "ΚΥΒΙΚΑ 2",
         "float64"
        ],
        [
         "ΤΙΜΗΜΑ 2",
         "float64"
        ],
        [
         "ΚΥΒ.3",
         "float64"
        ],
        [
         "ΤΙΜ.3",
         "float64"
        ],
        [
         "ΚΥΒ.4",
         "float64"
        ],
        [
         "ΤΙΜΗΜΑ 4",
         "float64"
        ],
        [
         "ΚΥΒ.5",
         "float64"
        ],
        [
         "ΤΙΜΗΜΑ 5",
         "float64"
        ],
        [
         "ΤΙΜΗΜΑ",
         "float64"
        ],
        [
         "ΠΑΓΙΟ",
         "float64"
        ],
        [
         "ΤΕΑΠ",
         "float64"
        ],
        [
         "ΟΑΠ",
         "float64"
        ],
        [
         "ΦΠΑ ΤΙΜ.",
         "float64"
        ],
        [
         "ΦΠΑ ΛΟΙΠΩΝ",
         "float64"
        ],
        [
         "ΕΡΓΑΣΙΕΣ",
         "float64"
        ],
        [
         "ΔΙΑΦ.ΚΕΡΜ.",
         "float64"
        ],
        [
         "ΚΥΡΙΑ ΟΦ,",
         "float64"
        ],
        [
         "ΠΙΣΤΩΤΙΚΟ",
         "float64"
        ],
        [
         "ΟΦΕΙΛΗ",
         "float64"
        ],
        [
         "ΑΡ.ΠΑΡΑΣΤΑΤΙΚΟΥ",
         "float64"
        ],
        [
         "ΗΜΕΡΟΜ.ΕΚΔΟΣΗΣ",
         "datetime64[ns]"
        ],
        [
         "Processed_Month",
         "int64"
        ],
        [
         "ΚΥΡΙΑ ΟΦ.",
         "float64"
        ]
       ],
       "shape": {
        "columns": 1,
        "rows": 45
       }
      },
      "text/plain": [
       "ΔΙΑΔΡΟΜΗ                           float64\n",
       "ΑΡ.ΠΑΡΟΧΗΣ                         float64\n",
       "ΠΕΡΙΟΔΟΣ ΚΑΤΑΝΑΛΩΣΗΣ ΑΠΌ    datetime64[ns]\n",
       "ΠΕΡΙΟΔΟΣ ΚΑΤΑΝΑΛΩΣΗΣ ΕΩΣ    datetime64[ns]\n",
       "ΗΜΕΡ.ΛΗΞΕΩΣ                 datetime64[ns]\n",
       "ΗΜ.ΚΑΤΑΝΑΛΩΣΗΣ                     float64\n",
       "ΠΕΡΙΦ.ΓΡΑΦ.                         object\n",
       "ΤΙΜΟΛΟΓΙΟ                           object\n",
       "ΙΔΙΟΚΤΗΤΗΣ                          object\n",
       "ΕΝΟΙΚΟΣ                             object\n",
       "ΔΙΕΥΘΥΝΣΗ                           object\n",
       "ΑΦΜ                                float64\n",
       "ΑΡ.ΜΕΤΡΗΤΗ                          object\n",
       "ΔΙΑΜ.                               object\n",
       "ΠΡΟΗΓ.ΕΝΔ.                         float64\n",
       "ΠΑΡ.ΕΝΔΕΙΞΗ                        float64\n",
       "ΤΕΚΜ.                              float64\n",
       "ΤΡΙΜ                               float64\n",
       "ΠΡΟΣΘ                              float64\n",
       "ΤΥΠΟΣ ΛΟΓΑΡΙΑΣΜΟΥ                   object\n",
       "ΚΥΒΙΚΑ 1                           float64\n",
       "ΤΙΜΗΜΑ 1                           float64\n",
       "ΚΥΒΙΚΑ 2                           float64\n",
       "ΤΙΜΗΜΑ 2                           float64\n",
       "ΚΥΒ.3                              float64\n",
       "ΤΙΜ.3                              float64\n",
       "ΚΥΒ.4                              float64\n",
       "ΤΙΜΗΜΑ 4                           float64\n",
       "ΚΥΒ.5                              float64\n",
       "ΤΙΜΗΜΑ 5                           float64\n",
       "ΤΙΜΗΜΑ                             float64\n",
       "ΠΑΓΙΟ                              float64\n",
       "ΤΕΑΠ                               float64\n",
       "ΟΑΠ                                float64\n",
       "ΦΠΑ ΤΙΜ.                           float64\n",
       "ΦΠΑ ΛΟΙΠΩΝ                         float64\n",
       "ΕΡΓΑΣΙΕΣ                           float64\n",
       "ΔΙΑΦ.ΚΕΡΜ.                         float64\n",
       "ΚΥΡΙΑ ΟΦ,                          float64\n",
       "ΠΙΣΤΩΤΙΚΟ                          float64\n",
       "ΟΦΕΙΛΗ                             float64\n",
       "ΑΡ.ΠΑΡΑΣΤΑΤΙΚΟΥ                    float64\n",
       "ΗΜΕΡΟΜ.ΕΚΔΟΣΗΣ              datetime64[ns]\n",
       "Processed_Month                      int64\n",
       "ΚΥΡΙΑ ΟΦ.                          float64\n",
       "dtype: object"
      ]
     },
     "execution_count": 24,
     "metadata": {},
     "output_type": "execute_result"
    }
   ],
   "source": [
    "eurobank_db = pd.read_excel(\"../data/eurobank_historical_db.xlsx\")\n",
    "eurobank_db.dtypes"
   ]
  }
 ],
 "metadata": {
  "kernelspec": {
   "display_name": "utilities",
   "language": "python",
   "name": "python3"
  },
  "language_info": {
   "codemirror_mode": {
    "name": "ipython",
    "version": 3
   },
   "file_extension": ".py",
   "mimetype": "text/x-python",
   "name": "python",
   "nbconvert_exporter": "python",
   "pygments_lexer": "ipython3",
   "version": "3.9.23"
  }
 },
 "nbformat": 4,
 "nbformat_minor": 5
}
