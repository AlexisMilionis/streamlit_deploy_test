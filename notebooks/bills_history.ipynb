{
 "cells": [
  {
   "cell_type": "code",
   "execution_count": 22,
   "id": "5d7997a5",
   "metadata": {},
   "outputs": [],
   "source": [
    "import pandas as pd\n",
    "import sys, os\n",
    "sys.path.insert(0, os.path.join(os.getcwd(), '../../..'))"
   ]
  },
  {
   "cell_type": "code",
   "execution_count": 24,
   "id": "63297f54",
   "metadata": {},
   "outputs": [],
   "source": [
    "eurobank_202507 = pd.read_excel(\"../data/input/eurobank/202507.xlsx\")\n",
    "eurobank_202508 = pd.read_excel(\"../data/input/eurobank/202508.xlsx\")\n",
    "eurobank_202509 = pd.read_excel(\"../data/input/eurobank/202509.xlsx\")\n",
    "\n",
    "management_202507 = pd.read_excel(\"../data/input/management/202507.xlsx\")\n",
    "management_202508 = pd.read_excel(\"../data/input/management/202508.xlsx\")   \n",
    "management_202509 = pd.read_excel(\"../data/input/management/202509.xlsx\")"
   ]
  },
  {
   "cell_type": "code",
   "execution_count": 26,
   "id": "62919070",
   "metadata": {},
   "outputs": [
    {
     "name": "stderr",
     "output_type": "stream",
     "text": [
      "C:\\Users\\CG14773\\AppData\\Local\\Temp\\ipykernel_20392\\2352667742.py:2: FutureWarning: The behavior of DataFrame concatenation with empty or all-NA entries is deprecated. In a future version, this will no longer exclude empty or all-NA columns when determining the result dtypes. To retain the old behavior, exclude the relevant entries before the concat operation.\n",
      "  management_historical_db = pd.concat([management_202507, management_202508, management_202509], ignore_index=True)\n"
     ]
    }
   ],
   "source": [
    "eurobank_historical_db = pd.concat([eurobank_202507, eurobank_202508, eurobank_202509], ignore_index=True)\n",
    "management_historical_db = pd.concat([management_202507, management_202508, management_202509], ignore_index=True)"
   ]
  },
  {
   "cell_type": "code",
   "execution_count": 27,
   "id": "736e60e6",
   "metadata": {},
   "outputs": [],
   "source": [
    "eurobank_historical_db.to_excel(\"../data/eurobank_historical_db.xlsx\", index=False)"
   ]
  },
  {
   "cell_type": "code",
   "execution_count": 29,
   "id": "21fc70fe",
   "metadata": {},
   "outputs": [
    {
     "data": {
      "text/plain": [
       "2082"
      ]
     },
     "execution_count": 29,
     "metadata": {},
     "output_type": "execute_result"
    }
   ],
   "source": [
    "eurobank_historical_db['ΑΡ.ΠΑΡΑΣΤΑΤΙΚΟΥ'].nunique()"
   ]
  },
  {
   "cell_type": "code",
   "execution_count": 30,
   "id": "92d2860c",
   "metadata": {},
   "outputs": [],
   "source": [
    "management_historical_db.to_excel(\"../data/management_historical_db.xlsx\", index=False)\n"
   ]
  },
  {
   "cell_type": "code",
   "execution_count": 31,
   "id": "a469c60f",
   "metadata": {},
   "outputs": [
    {
     "data": {
      "text/plain": [
       "77"
      ]
     },
     "execution_count": 31,
     "metadata": {},
     "output_type": "execute_result"
    }
   ],
   "source": [
    "management_historical_db['ΑΡ.ΠΑΡΑΣΤΑΤΙΚΟΥ'].nunique()"
   ]
  },
  {
   "cell_type": "code",
   "execution_count": null,
   "id": "7790acb6",
   "metadata": {},
   "outputs": [],
   "source": []
  }
 ],
 "metadata": {
  "kernelspec": {
   "display_name": "utilities",
   "language": "python",
   "name": "python3"
  },
  "language_info": {
   "codemirror_mode": {
    "name": "ipython",
    "version": 3
   },
   "file_extension": ".py",
   "mimetype": "text/x-python",
   "name": "python",
   "nbconvert_exporter": "python",
   "pygments_lexer": "ipython3",
   "version": "3.9.23"
  }
 },
 "nbformat": 4,
 "nbformat_minor": 5
}
