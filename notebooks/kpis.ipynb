{
 "cells": [
  {
   "cell_type": "code",
   "execution_count": 60,
   "id": "d30eb47a",
   "metadata": {},
   "outputs": [],
   "source": [
    "import pandas as pd\n",
    "import matplotlib.pyplot as plt\n",
    "import seaborn as sns"
   ]
  },
  {
   "cell_type": "code",
   "execution_count": 41,
   "id": "762c4d77",
   "metadata": {},
   "outputs": [
    {
     "data": {
      "text/plain": [
       "(480, 43)"
      ]
     },
     "execution_count": 41,
     "metadata": {},
     "output_type": "execute_result"
    }
   ],
   "source": [
    "portfolio = pd.read_excel(\"C:\\\\Users\\\\CG14773\\\\OneDrive - Cerved\\\\codebase\\\\Utilities\\\\streamlit\\\\data\\\\input\\\\eurobank\\\\202509.xlsx\")\n",
    "portfolio.shape"
   ]
  },
  {
   "cell_type": "markdown",
   "id": "0f212e90",
   "metadata": {},
   "source": [
    "# kpis"
   ]
  },
  {
   "cell_type": "code",
   "execution_count": 42,
   "id": "dd730795",
   "metadata": {},
   "outputs": [],
   "source": [
    "portfolio['consumption'] = portfolio['ΚΥΒΙΚΑ 1'].fillna(0) + \\\n",
    "                                    portfolio['ΚΥΒΙΚΑ 2'].fillna(0) + \\\n",
    "                                    portfolio['ΚΥΒ.3'].fillna(0) + \\\n",
    "                                    portfolio['ΚΥΒ.4'].fillna(0) + \\\n",
    "                                    portfolio['ΚΥΒ.5'].fillna(0)"
   ]
  },
  {
   "cell_type": "code",
   "execution_count": 43,
   "id": "d4df0042",
   "metadata": {},
   "outputs": [
    {
     "data": {
      "text/plain": [
       "(208, 44)"
      ]
     },
     "execution_count": 43,
     "metadata": {},
     "output_type": "execute_result"
    }
   ],
   "source": [
    "columns = [\"ΛΟΓΑΡ. ΥΔΡΕΥΣΗΣ\", \"ΛΟΓΑΡΙΑΣΜΟΣ ΛΑΘΡΑΙΑΣ ΥΔΡΟΛΗΨΙΑΣ\"]\n",
    "bills = portfolio[portfolio['ΤΥΠΟΣ ΛΟΓΑΡΙΑΣΜΟΥ'].isin(columns)]\n",
    "bills.shape"
   ]
  },
  {
   "cell_type": "code",
   "execution_count": 44,
   "id": "b7e6c850",
   "metadata": {},
   "outputs": [
    {
     "data": {
      "text/plain": [
       "141"
      ]
     },
     "execution_count": 44,
     "metadata": {},
     "output_type": "execute_result"
    }
   ],
   "source": [
    "bills['ΑΡ.ΠΑΡΟΧΗΣ'].nunique()"
   ]
  },
  {
   "cell_type": "code",
   "execution_count": 45,
   "id": "197a11f0",
   "metadata": {},
   "outputs": [
    {
     "data": {
      "text/plain": [
       "np.int64(0)"
      ]
     },
     "execution_count": 45,
     "metadata": {},
     "output_type": "execute_result"
    }
   ],
   "source": [
    "bills['consumption'].isnull().sum()"
   ]
  },
  {
   "cell_type": "code",
   "execution_count": 53,
   "id": "916c21c1",
   "metadata": {},
   "outputs": [],
   "source": [
    "supply_metrics = bills.groupby('ΑΡ.ΠΑΡΟΧΗΣ').agg({\n",
    "            'consumption': 'sum',\n",
    "            'ΟΦΕΙΛΗ': 'sum'\n",
    "        }).reset_index()\n",
    "\n",
    "# supply_metrics = supply_metrics[supply_metrics['consumption'] > 0] # Filter out rows with zero consumption\n",
    "supply_metrics['price_per_cubic_meter'] = supply_metrics['ΟΦΕΙΛΗ'] / supply_metrics['consumption']\n"
   ]
  },
  {
   "cell_type": "code",
   "execution_count": 54,
   "id": "3660e0f1",
   "metadata": {},
   "outputs": [
    {
     "data": {
      "application/vnd.microsoft.datawrangler.viewer.v0+json": {
       "columns": [
        {
         "name": "index",
         "rawType": "int64",
         "type": "integer"
        },
        {
         "name": "ΑΡ.ΠΑΡΟΧΗΣ",
         "rawType": "int64",
         "type": "integer"
        },
        {
         "name": "consumption",
         "rawType": "float64",
         "type": "float"
        },
        {
         "name": "ΟΦΕΙΛΗ",
         "rawType": "float64",
         "type": "float"
        },
        {
         "name": "price_per_cubic_meter",
         "rawType": "float64",
         "type": "float"
        }
       ],
       "ref": "1265c7d5-3538-40a8-91b8-5f1b1eba51f3",
       "rows": [
        [
         "0",
         "67101",
         "6.1",
         "8.18",
         "1.340983606557377"
        ],
        [
         "1",
         "67103",
         "93.0",
         "213.18",
         "2.2922580645161292"
        ],
        [
         "2",
         "74374",
         "12.0",
         "12.29",
         "1.0241666666666667"
        ],
        [
         "3",
         "95344",
         "6.0",
         "8.05",
         "1.3416666666666668"
        ],
        [
         "4",
         "110314",
         "0.0",
         "3.81",
         "inf"
        ],
        [
         "5",
         "110324",
         "6.2",
         "8.31",
         "1.3403225806451613"
        ],
        [
         "6",
         "132989",
         "10.0",
         "10.94",
         "1.0939999999999999"
        ],
        [
         "7",
         "136470",
         "6.1",
         "8.18",
         "1.340983606557377"
        ],
        [
         "8",
         "154840",
         "448.0",
         "1320.2999999999997",
         "2.9470982142857136"
        ],
        [
         "9",
         "158118",
         "6.6",
         "8.85",
         "1.3409090909090908"
        ],
        [
         "10",
         "192560",
         "7.0",
         "9.02",
         "1.2885714285714285"
        ],
        [
         "11",
         "262297",
         "12.0",
         "12.42",
         "1.035"
        ],
        [
         "12",
         "289233",
         "71.0",
         "113.54",
         "1.599154929577465"
        ],
        [
         "13",
         "311588",
         "107.00000000000001",
         "268.74",
         "2.5115887850467287"
        ],
        [
         "14",
         "318825",
         "6.2",
         "8.31",
         "1.3403225806451613"
        ],
        [
         "15",
         "349939",
         "17.0",
         "17.44",
         "1.0258823529411765"
        ],
        [
         "16",
         "365785",
         "6.8",
         "1.38",
         "0.20294117647058824"
        ],
        [
         "17",
         "376365",
         "17.0",
         "16.74",
         "0.9847058823529411"
        ],
        [
         "18",
         "414467",
         "6.1",
         "8.23",
         "1.3491803278688526"
        ],
        [
         "19",
         "418978",
         "6.7",
         "9.02",
         "1.3462686567164177"
        ],
        [
         "20",
         "425616",
         "10.0",
         "11.31",
         "1.131"
        ],
        [
         "21",
         "425617",
         "7.0",
         "9.14",
         "1.3057142857142858"
        ],
        [
         "22",
         "462158",
         "5.9",
         "7.89",
         "1.3372881355932202"
        ],
        [
         "23",
         "487074",
         "8.0",
         "9.69",
         "1.21125"
        ],
        [
         "24",
         "498212",
         "6.2",
         "8.31",
         "1.3403225806451613"
        ],
        [
         "25",
         "498555",
         "0.0",
         "3.93",
         "inf"
        ],
        [
         "26",
         "520002",
         "6.4",
         "8.58",
         "1.340625"
        ],
        [
         "27",
         "520271",
         "19.0",
         "19.74",
         "1.0389473684210526"
        ],
        [
         "28",
         "552561",
         "29.0",
         "33.07",
         "1.140344827586207"
        ],
        [
         "29",
         "575854",
         "6.1",
         "8.23",
         "1.3491803278688526"
        ],
        [
         "30",
         "579294",
         "6.1",
         "8.23",
         "1.3491803278688526"
        ],
        [
         "31",
         "584160",
         "20.0",
         "20.96",
         "1.048"
        ],
        [
         "32",
         "599205",
         "200.0",
         "864.58",
         "4.322900000000001"
        ],
        [
         "33",
         "601000",
         "22.0",
         "23.84",
         "1.0836363636363637"
        ],
        [
         "34",
         "609553",
         "6.3",
         "8.44",
         "1.3396825396825396"
        ],
        [
         "35",
         "610097",
         "6.5",
         "8.71",
         "1.34"
        ],
        [
         "36",
         "611905",
         "6.3",
         "8.44",
         "1.3396825396825396"
        ],
        [
         "37",
         "614320",
         "6.5",
         "8.71",
         "1.34"
        ],
        [
         "38",
         "614322",
         "6.5",
         "8.71",
         "1.34"
        ],
        [
         "39",
         "614323",
         "0.0",
         "3.81",
         "inf"
        ],
        [
         "40",
         "614330",
         "10.0",
         "11.27",
         "1.127"
        ],
        [
         "41",
         "657718",
         "61.0",
         "75.84",
         "1.2432786885245901"
        ],
        [
         "42",
         "689361",
         "0.0",
         "13.21",
         "inf"
        ],
        [
         "43",
         "689362",
         "0.0",
         "13.21",
         "inf"
        ],
        [
         "44",
         "728647",
         "6.5",
         "8.71",
         "1.34"
        ],
        [
         "45",
         "770702",
         "10.0",
         "10.98",
         "1.098"
        ],
        [
         "46",
         "829156",
         "6.5",
         "8.75",
         "1.3461538461538463"
        ],
        [
         "47",
         "872462",
         "6.9",
         "9.24",
         "1.3391304347826087"
        ],
        [
         "48",
         "890344",
         "6.0",
         "8.05",
         "1.3416666666666668"
        ],
        [
         "49",
         "890359",
         "6.0",
         "8.05",
         "1.3416666666666668"
        ]
       ],
       "shape": {
        "columns": 4,
        "rows": 141
       }
      },
      "text/html": [
       "<div>\n",
       "<style scoped>\n",
       "    .dataframe tbody tr th:only-of-type {\n",
       "        vertical-align: middle;\n",
       "    }\n",
       "\n",
       "    .dataframe tbody tr th {\n",
       "        vertical-align: top;\n",
       "    }\n",
       "\n",
       "    .dataframe thead th {\n",
       "        text-align: right;\n",
       "    }\n",
       "</style>\n",
       "<table border=\"1\" class=\"dataframe\">\n",
       "  <thead>\n",
       "    <tr style=\"text-align: right;\">\n",
       "      <th></th>\n",
       "      <th>ΑΡ.ΠΑΡΟΧΗΣ</th>\n",
       "      <th>consumption</th>\n",
       "      <th>ΟΦΕΙΛΗ</th>\n",
       "      <th>price_per_cubic_meter</th>\n",
       "    </tr>\n",
       "  </thead>\n",
       "  <tbody>\n",
       "    <tr>\n",
       "      <th>0</th>\n",
       "      <td>67101</td>\n",
       "      <td>6.1</td>\n",
       "      <td>8.18</td>\n",
       "      <td>1.340984</td>\n",
       "    </tr>\n",
       "    <tr>\n",
       "      <th>1</th>\n",
       "      <td>67103</td>\n",
       "      <td>93.0</td>\n",
       "      <td>213.18</td>\n",
       "      <td>2.292258</td>\n",
       "    </tr>\n",
       "    <tr>\n",
       "      <th>2</th>\n",
       "      <td>74374</td>\n",
       "      <td>12.0</td>\n",
       "      <td>12.29</td>\n",
       "      <td>1.024167</td>\n",
       "    </tr>\n",
       "    <tr>\n",
       "      <th>3</th>\n",
       "      <td>95344</td>\n",
       "      <td>6.0</td>\n",
       "      <td>8.05</td>\n",
       "      <td>1.341667</td>\n",
       "    </tr>\n",
       "    <tr>\n",
       "      <th>4</th>\n",
       "      <td>110314</td>\n",
       "      <td>0.0</td>\n",
       "      <td>3.81</td>\n",
       "      <td>inf</td>\n",
       "    </tr>\n",
       "    <tr>\n",
       "      <th>...</th>\n",
       "      <td>...</td>\n",
       "      <td>...</td>\n",
       "      <td>...</td>\n",
       "      <td>...</td>\n",
       "    </tr>\n",
       "    <tr>\n",
       "      <th>136</th>\n",
       "      <td>2195056</td>\n",
       "      <td>6.2</td>\n",
       "      <td>8.31</td>\n",
       "      <td>1.340323</td>\n",
       "    </tr>\n",
       "    <tr>\n",
       "      <th>137</th>\n",
       "      <td>2210088</td>\n",
       "      <td>22.0</td>\n",
       "      <td>16.57</td>\n",
       "      <td>0.753182</td>\n",
       "    </tr>\n",
       "    <tr>\n",
       "      <th>138</th>\n",
       "      <td>2210089</td>\n",
       "      <td>8.0</td>\n",
       "      <td>9.81</td>\n",
       "      <td>1.226250</td>\n",
       "    </tr>\n",
       "    <tr>\n",
       "      <th>139</th>\n",
       "      <td>8301359</td>\n",
       "      <td>5.8</td>\n",
       "      <td>7.77</td>\n",
       "      <td>1.339655</td>\n",
       "    </tr>\n",
       "    <tr>\n",
       "      <th>140</th>\n",
       "      <td>8301360</td>\n",
       "      <td>5.8</td>\n",
       "      <td>7.77</td>\n",
       "      <td>1.339655</td>\n",
       "    </tr>\n",
       "  </tbody>\n",
       "</table>\n",
       "<p>141 rows × 4 columns</p>\n",
       "</div>"
      ],
      "text/plain": [
       "     ΑΡ.ΠΑΡΟΧΗΣ  consumption  ΟΦΕΙΛΗ  price_per_cubic_meter\n",
       "0         67101          6.1    8.18               1.340984\n",
       "1         67103         93.0  213.18               2.292258\n",
       "2         74374         12.0   12.29               1.024167\n",
       "3         95344          6.0    8.05               1.341667\n",
       "4        110314          0.0    3.81                    inf\n",
       "..          ...          ...     ...                    ...\n",
       "136     2195056          6.2    8.31               1.340323\n",
       "137     2210088         22.0   16.57               0.753182\n",
       "138     2210089          8.0    9.81               1.226250\n",
       "139     8301359          5.8    7.77               1.339655\n",
       "140     8301360          5.8    7.77               1.339655\n",
       "\n",
       "[141 rows x 4 columns]"
      ]
     },
     "execution_count": 54,
     "metadata": {},
     "output_type": "execute_result"
    }
   ],
   "source": [
    "supply_metrics"
   ]
  },
  {
   "cell_type": "code",
   "execution_count": 56,
   "id": "006e39f3",
   "metadata": {},
   "outputs": [
    {
     "data": {
      "application/vnd.microsoft.datawrangler.viewer.v0+json": {
       "columns": [
        {
         "name": "index",
         "rawType": "int64",
         "type": "integer"
        },
        {
         "name": "ΑΡ.ΠΑΡΟΧΗΣ",
         "rawType": "int64",
         "type": "integer"
        },
        {
         "name": "consumption",
         "rawType": "float64",
         "type": "float"
        },
        {
         "name": "ΟΦΕΙΛΗ",
         "rawType": "float64",
         "type": "float"
        },
        {
         "name": "price_per_cubic_meter",
         "rawType": "float64",
         "type": "float"
        }
       ],
       "ref": "ba3f5c1f-ed36-4077-93e6-dcc2f8fdff67",
       "rows": [
        [
         "8",
         "154840",
         "448.0",
         "1320.2999999999997",
         "2.9470982142857136"
        ],
        [
         "32",
         "599205",
         "200.0",
         "864.58",
         "4.322900000000001"
        ],
        [
         "98",
         "1629110",
         "161.0",
         "648.75",
         "4.029503105590062"
        ],
        [
         "133",
         "2168598",
         "122.00000000000001",
         "236.4",
         "1.9377049180327868"
        ],
        [
         "13",
         "311588",
         "107.00000000000001",
         "268.74",
         "2.5115887850467287"
        ]
       ],
       "shape": {
        "columns": 4,
        "rows": 5
       }
      },
      "text/html": [
       "<div>\n",
       "<style scoped>\n",
       "    .dataframe tbody tr th:only-of-type {\n",
       "        vertical-align: middle;\n",
       "    }\n",
       "\n",
       "    .dataframe tbody tr th {\n",
       "        vertical-align: top;\n",
       "    }\n",
       "\n",
       "    .dataframe thead th {\n",
       "        text-align: right;\n",
       "    }\n",
       "</style>\n",
       "<table border=\"1\" class=\"dataframe\">\n",
       "  <thead>\n",
       "    <tr style=\"text-align: right;\">\n",
       "      <th></th>\n",
       "      <th>ΑΡ.ΠΑΡΟΧΗΣ</th>\n",
       "      <th>consumption</th>\n",
       "      <th>ΟΦΕΙΛΗ</th>\n",
       "      <th>price_per_cubic_meter</th>\n",
       "    </tr>\n",
       "  </thead>\n",
       "  <tbody>\n",
       "    <tr>\n",
       "      <th>8</th>\n",
       "      <td>154840</td>\n",
       "      <td>448.0</td>\n",
       "      <td>1320.30</td>\n",
       "      <td>2.947098</td>\n",
       "    </tr>\n",
       "    <tr>\n",
       "      <th>32</th>\n",
       "      <td>599205</td>\n",
       "      <td>200.0</td>\n",
       "      <td>864.58</td>\n",
       "      <td>4.322900</td>\n",
       "    </tr>\n",
       "    <tr>\n",
       "      <th>98</th>\n",
       "      <td>1629110</td>\n",
       "      <td>161.0</td>\n",
       "      <td>648.75</td>\n",
       "      <td>4.029503</td>\n",
       "    </tr>\n",
       "    <tr>\n",
       "      <th>133</th>\n",
       "      <td>2168598</td>\n",
       "      <td>122.0</td>\n",
       "      <td>236.40</td>\n",
       "      <td>1.937705</td>\n",
       "    </tr>\n",
       "    <tr>\n",
       "      <th>13</th>\n",
       "      <td>311588</td>\n",
       "      <td>107.0</td>\n",
       "      <td>268.74</td>\n",
       "      <td>2.511589</td>\n",
       "    </tr>\n",
       "  </tbody>\n",
       "</table>\n",
       "</div>"
      ],
      "text/plain": [
       "     ΑΡ.ΠΑΡΟΧΗΣ  consumption   ΟΦΕΙΛΗ  price_per_cubic_meter\n",
       "8        154840        448.0  1320.30               2.947098\n",
       "32       599205        200.0   864.58               4.322900\n",
       "98      1629110        161.0   648.75               4.029503\n",
       "133     2168598        122.0   236.40               1.937705\n",
       "13       311588        107.0   268.74               2.511589"
      ]
     },
     "execution_count": 56,
     "metadata": {},
     "output_type": "execute_result"
    }
   ],
   "source": [
    "supply_metrics.nlargest(5, 'consumption')"
   ]
  },
  {
   "cell_type": "code",
   "execution_count": 57,
   "id": "2a802325",
   "metadata": {},
   "outputs": [
    {
     "data": {
      "application/vnd.microsoft.datawrangler.viewer.v0+json": {
       "columns": [
        {
         "name": "index",
         "rawType": "int64",
         "type": "integer"
        },
        {
         "name": "ΑΡ.ΠΑΡΟΧΗΣ",
         "rawType": "int64",
         "type": "integer"
        },
        {
         "name": "consumption",
         "rawType": "float64",
         "type": "float"
        },
        {
         "name": "ΟΦΕΙΛΗ",
         "rawType": "float64",
         "type": "float"
        },
        {
         "name": "price_per_cubic_meter",
         "rawType": "float64",
         "type": "float"
        }
       ],
       "ref": "ddb8a837-bc97-4310-b7df-6926cfe447e4",
       "rows": [
        [
         "108",
         "1802547",
         "16.7",
         "2985.1400000000003",
         "178.75089820359284"
        ],
        [
         "8",
         "154840",
         "448.0",
         "1320.2999999999997",
         "2.9470982142857136"
        ],
        [
         "32",
         "599205",
         "200.0",
         "864.58",
         "4.322900000000001"
        ],
        [
         "98",
         "1629110",
         "161.0",
         "648.75",
         "4.029503105590062"
        ],
        [
         "13",
         "311588",
         "107.00000000000001",
         "268.74",
         "2.5115887850467287"
        ]
       ],
       "shape": {
        "columns": 4,
        "rows": 5
       }
      },
      "text/html": [
       "<div>\n",
       "<style scoped>\n",
       "    .dataframe tbody tr th:only-of-type {\n",
       "        vertical-align: middle;\n",
       "    }\n",
       "\n",
       "    .dataframe tbody tr th {\n",
       "        vertical-align: top;\n",
       "    }\n",
       "\n",
       "    .dataframe thead th {\n",
       "        text-align: right;\n",
       "    }\n",
       "</style>\n",
       "<table border=\"1\" class=\"dataframe\">\n",
       "  <thead>\n",
       "    <tr style=\"text-align: right;\">\n",
       "      <th></th>\n",
       "      <th>ΑΡ.ΠΑΡΟΧΗΣ</th>\n",
       "      <th>consumption</th>\n",
       "      <th>ΟΦΕΙΛΗ</th>\n",
       "      <th>price_per_cubic_meter</th>\n",
       "    </tr>\n",
       "  </thead>\n",
       "  <tbody>\n",
       "    <tr>\n",
       "      <th>108</th>\n",
       "      <td>1802547</td>\n",
       "      <td>16.7</td>\n",
       "      <td>2985.14</td>\n",
       "      <td>178.750898</td>\n",
       "    </tr>\n",
       "    <tr>\n",
       "      <th>8</th>\n",
       "      <td>154840</td>\n",
       "      <td>448.0</td>\n",
       "      <td>1320.30</td>\n",
       "      <td>2.947098</td>\n",
       "    </tr>\n",
       "    <tr>\n",
       "      <th>32</th>\n",
       "      <td>599205</td>\n",
       "      <td>200.0</td>\n",
       "      <td>864.58</td>\n",
       "      <td>4.322900</td>\n",
       "    </tr>\n",
       "    <tr>\n",
       "      <th>98</th>\n",
       "      <td>1629110</td>\n",
       "      <td>161.0</td>\n",
       "      <td>648.75</td>\n",
       "      <td>4.029503</td>\n",
       "    </tr>\n",
       "    <tr>\n",
       "      <th>13</th>\n",
       "      <td>311588</td>\n",
       "      <td>107.0</td>\n",
       "      <td>268.74</td>\n",
       "      <td>2.511589</td>\n",
       "    </tr>\n",
       "  </tbody>\n",
       "</table>\n",
       "</div>"
      ],
      "text/plain": [
       "     ΑΡ.ΠΑΡΟΧΗΣ  consumption   ΟΦΕΙΛΗ  price_per_cubic_meter\n",
       "108     1802547         16.7  2985.14             178.750898\n",
       "8        154840        448.0  1320.30               2.947098\n",
       "32       599205        200.0   864.58               4.322900\n",
       "98      1629110        161.0   648.75               4.029503\n",
       "13       311588        107.0   268.74               2.511589"
      ]
     },
     "execution_count": 57,
     "metadata": {},
     "output_type": "execute_result"
    }
   ],
   "source": [
    "supply_metrics.nlargest(5, 'ΟΦΕΙΛΗ')"
   ]
  },
  {
   "cell_type": "code",
   "execution_count": 59,
   "id": "4ef48af0",
   "metadata": {},
   "outputs": [
    {
     "data": {
      "application/vnd.microsoft.datawrangler.viewer.v0+json": {
       "columns": [
        {
         "name": "index",
         "rawType": "int64",
         "type": "integer"
        },
        {
         "name": "ΑΡ.ΠΑΡΟΧΗΣ",
         "rawType": "int64",
         "type": "integer"
        },
        {
         "name": "consumption",
         "rawType": "float64",
         "type": "float"
        },
        {
         "name": "ΟΦΕΙΛΗ",
         "rawType": "float64",
         "type": "float"
        },
        {
         "name": "price_per_cubic_meter",
         "rawType": "float64",
         "type": "float"
        }
       ],
       "ref": "c39c8ed6-36f5-4f7b-b93e-47b869a37ce1",
       "rows": [
        [
         "108",
         "1802547",
         "16.7",
         "2985.1400000000003",
         "178.75089820359284"
        ],
        [
         "32",
         "599205",
         "200.0",
         "864.58",
         "4.322900000000001"
        ],
        [
         "98",
         "1629110",
         "161.0",
         "648.75",
         "4.029503105590062"
        ],
        [
         "63",
         "1294707",
         "6.5",
         "22.95",
         "3.5307692307692307"
        ],
        [
         "8",
         "154840",
         "448.0",
         "1320.2999999999997",
         "2.9470982142857136"
        ]
       ],
       "shape": {
        "columns": 4,
        "rows": 5
       }
      },
      "text/html": [
       "<div>\n",
       "<style scoped>\n",
       "    .dataframe tbody tr th:only-of-type {\n",
       "        vertical-align: middle;\n",
       "    }\n",
       "\n",
       "    .dataframe tbody tr th {\n",
       "        vertical-align: top;\n",
       "    }\n",
       "\n",
       "    .dataframe thead th {\n",
       "        text-align: right;\n",
       "    }\n",
       "</style>\n",
       "<table border=\"1\" class=\"dataframe\">\n",
       "  <thead>\n",
       "    <tr style=\"text-align: right;\">\n",
       "      <th></th>\n",
       "      <th>ΑΡ.ΠΑΡΟΧΗΣ</th>\n",
       "      <th>consumption</th>\n",
       "      <th>ΟΦΕΙΛΗ</th>\n",
       "      <th>price_per_cubic_meter</th>\n",
       "    </tr>\n",
       "  </thead>\n",
       "  <tbody>\n",
       "    <tr>\n",
       "      <th>108</th>\n",
       "      <td>1802547</td>\n",
       "      <td>16.7</td>\n",
       "      <td>2985.14</td>\n",
       "      <td>178.750898</td>\n",
       "    </tr>\n",
       "    <tr>\n",
       "      <th>32</th>\n",
       "      <td>599205</td>\n",
       "      <td>200.0</td>\n",
       "      <td>864.58</td>\n",
       "      <td>4.322900</td>\n",
       "    </tr>\n",
       "    <tr>\n",
       "      <th>98</th>\n",
       "      <td>1629110</td>\n",
       "      <td>161.0</td>\n",
       "      <td>648.75</td>\n",
       "      <td>4.029503</td>\n",
       "    </tr>\n",
       "    <tr>\n",
       "      <th>63</th>\n",
       "      <td>1294707</td>\n",
       "      <td>6.5</td>\n",
       "      <td>22.95</td>\n",
       "      <td>3.530769</td>\n",
       "    </tr>\n",
       "    <tr>\n",
       "      <th>8</th>\n",
       "      <td>154840</td>\n",
       "      <td>448.0</td>\n",
       "      <td>1320.30</td>\n",
       "      <td>2.947098</td>\n",
       "    </tr>\n",
       "  </tbody>\n",
       "</table>\n",
       "</div>"
      ],
      "text/plain": [
       "     ΑΡ.ΠΑΡΟΧΗΣ  consumption   ΟΦΕΙΛΗ  price_per_cubic_meter\n",
       "108     1802547         16.7  2985.14             178.750898\n",
       "32       599205        200.0   864.58               4.322900\n",
       "98      1629110        161.0   648.75               4.029503\n",
       "63      1294707          6.5    22.95               3.530769\n",
       "8        154840        448.0  1320.30               2.947098"
      ]
     },
     "execution_count": 59,
     "metadata": {},
     "output_type": "execute_result"
    }
   ],
   "source": [
    "supply_metrics_filtered = supply_metrics[supply_metrics['price_per_cubic_meter'] != float('inf')]\n",
    "supply_metrics_filtered.nlargest(5, 'price_per_cubic_meter')"
   ]
  },
  {
   "cell_type": "markdown",
   "id": "4ef73296",
   "metadata": {},
   "source": [
    "# scatterplot"
   ]
  },
  {
   "cell_type": "code",
   "execution_count": 63,
   "id": "c9208247",
   "metadata": {},
   "outputs": [
    {
     "data": {
      "image/png": "[encoded data removed]",
      "text/plain": [
       "<Figure size 1000x600 with 1 Axes>"
      ]
     },
     "metadata": {},
     "output_type": "display_data"
    }
   ],
   "source": [
    "import mplcursors\n",
    "\n",
    "fig, ax = plt.subplots(figsize=(10, 6))\n",
    "fig.patch.set_facecolor('#1e3a8a')  # Dark blue background\n",
    "ax.set_facecolor('#1e3a8a')  # Dark blue background\n",
    "\n",
    "scatter = ax.scatter(supply_metrics['consumption'], supply_metrics['ΟΦΕΙΛΗ'], \n",
    "                    c='lightblue', alpha=0.7, s=50)\n",
    "\n",
    "ax.set_xlabel('Consumption (m³)', color='white', fontsize=12)\n",
    "ax.set_ylabel('Cost (euro)', color='white', fontsize=12)\n",
    "ax.tick_params(colors='white')\n",
    "ax.spines['top'].set_visible(False)\n",
    "ax.spines['right'].set_visible(False)\n",
    "ax.spines['bottom'].set_color('white')\n",
    "ax.spines['left'].set_color('white')\n",
    "\n",
    "# Add hover functionality\n",
    "cursor = mplcursors.cursor(scatter, hover=True)\n",
    "cursor.connect(\"add\", lambda sel: sel.annotation.set_text(f\"Supply ID: {supply_metrics.iloc[sel.target.index]['ΑΡ.ΠΑΡΟΧΗΣ']}\"))\n",
    "\n",
    "plt.tight_layout()\n",
    "plt.show()"
   ]
  }
 ],
 "metadata": {
  "kernelspec": {
   "display_name": "utilities",
   "language": "python",
   "name": "python3"
  },
  "language_info": {
   "codemirror_mode": {
    "name": "ipython",
    "version": 3
   },
   "file_extension": ".py",
   "mimetype": "text/x-python",
   "name": "python",
   "nbconvert_exporter": "python",
   "pygments_lexer": "ipython3",
   "version": "3.9.23"
  }
 },
 "nbformat": 4,
 "nbformat_minor": 5
}
